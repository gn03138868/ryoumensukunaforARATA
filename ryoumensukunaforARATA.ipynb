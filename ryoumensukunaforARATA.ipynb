{
 "cells": [
  {
   "cell_type": "code",
   "execution_count": null,
   "id": "1199adaf",
   "metadata": {},
   "outputs": [],
   "source": [
    "#Sugi 1 for Yasue sensei sample images\n",
    "\n",
    "from PIL import Image\n",
    "import os\n",
    "\n",
    "# input path\n",
    "input_image_path = r\"X:\\XX\\XXX\\XXXX.jpg\"\n",
    "## rewrite the image name you wish to input in A4 size\n",
    "\n",
    "# output path\n",
    "output_folder = r\"Y:\\YY\\YYY\\YYYY\"\n",
    "## rewrite the output folder name you with for the cut 400X400 pixel images\n",
    "\n",
    "# crop size definition\n",
    "crop_size = (400, 400)\n",
    "\n",
    "def crop_image(image_path, output_folder, crop_size):\n",
    "    \n",
    "    img = Image.open(image_path)\n",
    "    \n",
    "    width, height = img.size\n",
    "    \n",
    "    rows = height // crop_size[1]\n",
    "    cols = width // crop_size[0]\n",
    "    \n",
    "    if not os.path.exists(output_folder):\n",
    "        os.makedirs(output_folder)\n",
    "    \n",
    "    count = 0\n",
    "    for r in range(rows):\n",
    "        for c in range(cols):\n",
    "            # Calculate the coordinates of the upper left corner and lower right corner of the cutting area\n",
    "            left = c * crop_size[0]\n",
    "            top = r * crop_size[1]\n",
    "            right = left + crop_size[0]\n",
    "            bottom = top + crop_size[1]\n",
    "            \n",
    "            # cutting\n",
    "            cropped_img = img.crop((left, top, right, bottom))\n",
    "            \n",
    "            # save\n",
    "            output_path = os.path.join(output_folder, f\"file's name-{left}_{top}_{right}_{bottom}_{count}.jpg\")\n",
    "            cropped_img.save(output_path)\n",
    "            \n",
    "            count += 1\n",
    "\n",
    "crop_image(input_image_path, output_folder, crop_size)"
   ]
  }
 ],
 "metadata": {
  "kernelspec": {
   "display_name": "Python 3 (ipykernel)",
   "language": "python",
   "name": "python3"
  },
  "language_info": {
   "codemirror_mode": {
    "name": "ipython",
    "version": 3
   },
   "file_extension": ".py",
   "mimetype": "text/x-python",
   "name": "python",
   "nbconvert_exporter": "python",
   "pygments_lexer": "ipython3",
   "version": "3.7.16"
  }
 },
 "nbformat": 4,
 "nbformat_minor": 5
}
